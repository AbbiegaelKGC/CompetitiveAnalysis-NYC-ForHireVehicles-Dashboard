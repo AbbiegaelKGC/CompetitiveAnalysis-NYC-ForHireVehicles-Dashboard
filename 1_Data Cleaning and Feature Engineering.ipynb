{
 "cells": [
  {
   "cell_type": "markdown",
   "id": "bae8bc28",
   "metadata": {},
   "source": [
    "# Graphs for Competitive Analysis on New York City's Private For Hire Vehicle Companies \n",
    "\n",
    "Data Sources:\n",
    "\n",
    "https://www.kaggle.com/datasets/shuhengmo/uber-nyc-forhire-vehicles-trip-data-2021\n",
    "\n",
    "https://www.nyc.gov/site/tlc/about/tlc-trip-record-data.page\n",
    "\n",
    "https://data.cityofnewyork.us/Transportation/NYC-Taxi-Zones/d3c5-ddgc"
   ]
  },
  {
   "cell_type": "markdown",
   "id": "66741703",
   "metadata": {},
   "source": [
    "# Installing packages"
   ]
  },
  {
   "cell_type": "code",
   "execution_count": 1,
   "id": "d765c964",
   "metadata": {},
   "outputs": [
    {
     "name": "stdout",
     "output_type": "stream",
     "text": [
      "Requirement already satisfied: my_package in c:\\users\\abbie\\anaconda3\\lib\\site-packages (0.0.0)\n",
      "Requirement already satisfied: pyarrow in c:\\users\\abbie\\anaconda3\\lib\\site-packages (11.0.0)\n",
      "Requirement already satisfied: numpy>=1.16.6 in c:\\users\\abbie\\anaconda3\\lib\\site-packages (from pyarrow) (1.21.5)\n"
     ]
    }
   ],
   "source": [
    "!pip install my_package\n",
    "!pip install pyarrow\n",
    "\n",
    "import pandas as pd\n",
    "import datetime as dt\n",
    "import random"
   ]
  },
  {
   "cell_type": "markdown",
   "id": "4326373c",
   "metadata": {},
   "source": [
    "# Stratified Random Sampling\n",
    "From an initial check of January 2021's trip data, the entries of High Volume For Hire Vehicle, which are for ride companies, like Uber, Lyft, and Via, reached 11.9 million rows. Therefore, a decision was made to do a strata random sampling on the data to study only 10% of the data. A strata technique was chosen so that the ride companies still have representation in the sampled data."
   ]
  },
  {
   "cell_type": "code",
   "execution_count": 2,
   "id": "1a138a42",
   "metadata": {},
   "outputs": [],
   "source": [
    "df1 = pd.read_parquet('fhvhv_tripdata_2021-01.parquet', engine='pyarrow')"
   ]
  },
  {
   "cell_type": "code",
   "execution_count": 3,
   "id": "22243899",
   "metadata": {},
   "outputs": [
    {
     "data": {
      "text/plain": [
       "(11908468, 24)"
      ]
     },
     "execution_count": 3,
     "metadata": {},
     "output_type": "execute_result"
    }
   ],
   "source": [
    "df1.shape"
   ]
  },
  {
   "cell_type": "code",
   "execution_count": 4,
   "id": "48c5a7ba",
   "metadata": {},
   "outputs": [
    {
     "name": "stdout",
     "output_type": "stream",
     "text": [
      "['HV0003' 'HV0005' 'HV0004']\n"
     ]
    }
   ],
   "source": [
    "# Read parquet file\n",
    "df = pd.read_parquet('fhvhv_tripdata_2021-01.parquet', engine='pyarrow')\n",
    "\n",
    "# Get the unique values in the stratum column\n",
    "strata_groups = df['hvfhs_license_num'].unique()\n",
    "print(strata_groups)"
   ]
  },
  {
   "cell_type": "code",
   "execution_count": 5,
   "id": "1e476ad0",
   "metadata": {},
   "outputs": [],
   "source": [
    "# Dictionary to store sample rows\n",
    "sampled_rows = {}\n",
    "\n",
    "# For loop to sample each group\n",
    "for ride_company in strata_groups:\n",
    "    stratum_rows = df.loc[df['hvfhs_license_num'] == ride_company]\n",
    "    # Gets number of entries per ride company\n",
    "    num_stratum_rows = stratum_rows.shape[0]\n",
    "    # Gets number of samples we want, integer format\n",
    "    num_sampled_rows = int(num_stratum_rows * 0.1)\n",
    "    # Creates a list of indeces randomly selected\n",
    "    sample_indices = random.sample(range(num_stratum_rows), num_sampled_rows)\n",
    "    # Compiles randomly selected entries into a dataframe\n",
    "    sampled_stratum_rows = stratum_rows.iloc[sample_indices]\n",
    "    # Stores the random samples into the dictionary, using ride company as keys.\n",
    "    sampled_rows[ride_company] = sampled_stratum_rows\n",
    "\n",
    "# Stacking the random samples on top of each other to create the df\n",
    "df = pd.concat(sampled_rows.values())"
   ]
  },
  {
   "cell_type": "code",
   "execution_count": 6,
   "id": "bc621618",
   "metadata": {},
   "outputs": [
    {
     "data": {
      "text/html": [
       "<div>\n",
       "<style scoped>\n",
       "    .dataframe tbody tr th:only-of-type {\n",
       "        vertical-align: middle;\n",
       "    }\n",
       "\n",
       "    .dataframe tbody tr th {\n",
       "        vertical-align: top;\n",
       "    }\n",
       "\n",
       "    .dataframe thead th {\n",
       "        text-align: right;\n",
       "    }\n",
       "</style>\n",
       "<table border=\"1\" class=\"dataframe\">\n",
       "  <thead>\n",
       "    <tr style=\"text-align: right;\">\n",
       "      <th></th>\n",
       "      <th>hvfhs_license_num</th>\n",
       "      <th>dispatching_base_num</th>\n",
       "      <th>originating_base_num</th>\n",
       "      <th>request_datetime</th>\n",
       "      <th>on_scene_datetime</th>\n",
       "      <th>pickup_datetime</th>\n",
       "      <th>dropoff_datetime</th>\n",
       "      <th>PULocationID</th>\n",
       "      <th>DOLocationID</th>\n",
       "      <th>trip_miles</th>\n",
       "      <th>...</th>\n",
       "      <th>sales_tax</th>\n",
       "      <th>congestion_surcharge</th>\n",
       "      <th>airport_fee</th>\n",
       "      <th>tips</th>\n",
       "      <th>driver_pay</th>\n",
       "      <th>shared_request_flag</th>\n",
       "      <th>shared_match_flag</th>\n",
       "      <th>access_a_ride_flag</th>\n",
       "      <th>wav_request_flag</th>\n",
       "      <th>wav_match_flag</th>\n",
       "    </tr>\n",
       "  </thead>\n",
       "  <tbody>\n",
       "    <tr>\n",
       "      <th>10902816</th>\n",
       "      <td>HV0003</td>\n",
       "      <td>B02875</td>\n",
       "      <td>B02875</td>\n",
       "      <td>2021-01-29 17:53:00</td>\n",
       "      <td>2021-01-29 18:17:01</td>\n",
       "      <td>2021-01-29 18:17:01</td>\n",
       "      <td>2021-01-29 18:27:41</td>\n",
       "      <td>69</td>\n",
       "      <td>167</td>\n",
       "      <td>1.55</td>\n",
       "      <td>...</td>\n",
       "      <td>0.85</td>\n",
       "      <td>0.00</td>\n",
       "      <td>NaN</td>\n",
       "      <td>0.0</td>\n",
       "      <td>13.86</td>\n",
       "      <td>N</td>\n",
       "      <td>N</td>\n",
       "      <td></td>\n",
       "      <td>N</td>\n",
       "      <td>Y</td>\n",
       "    </tr>\n",
       "    <tr>\n",
       "      <th>2138757</th>\n",
       "      <td>HV0003</td>\n",
       "      <td>B02878</td>\n",
       "      <td>B02878</td>\n",
       "      <td>2021-01-07 08:56:32</td>\n",
       "      <td>2021-01-07 08:58:20</td>\n",
       "      <td>2021-01-07 09:00:20</td>\n",
       "      <td>2021-01-07 09:17:24</td>\n",
       "      <td>47</td>\n",
       "      <td>126</td>\n",
       "      <td>2.25</td>\n",
       "      <td>...</td>\n",
       "      <td>1.47</td>\n",
       "      <td>0.00</td>\n",
       "      <td>NaN</td>\n",
       "      <td>0.0</td>\n",
       "      <td>12.56</td>\n",
       "      <td>N</td>\n",
       "      <td>N</td>\n",
       "      <td></td>\n",
       "      <td>N</td>\n",
       "      <td>N</td>\n",
       "    </tr>\n",
       "    <tr>\n",
       "      <th>10133463</th>\n",
       "      <td>HV0003</td>\n",
       "      <td>B02764</td>\n",
       "      <td>B02764</td>\n",
       "      <td>2021-01-28 00:31:33</td>\n",
       "      <td>2021-01-28 00:33:00</td>\n",
       "      <td>2021-01-28 00:34:42</td>\n",
       "      <td>2021-01-28 00:39:47</td>\n",
       "      <td>219</td>\n",
       "      <td>10</td>\n",
       "      <td>1.52</td>\n",
       "      <td>...</td>\n",
       "      <td>0.56</td>\n",
       "      <td>0.00</td>\n",
       "      <td>NaN</td>\n",
       "      <td>0.0</td>\n",
       "      <td>5.39</td>\n",
       "      <td>N</td>\n",
       "      <td>N</td>\n",
       "      <td></td>\n",
       "      <td>N</td>\n",
       "      <td>N</td>\n",
       "    </tr>\n",
       "    <tr>\n",
       "      <th>4668475</th>\n",
       "      <td>HV0003</td>\n",
       "      <td>B02835</td>\n",
       "      <td>B02835</td>\n",
       "      <td>2021-01-13 23:19:06</td>\n",
       "      <td>2021-01-13 23:23:54</td>\n",
       "      <td>2021-01-13 23:23:54</td>\n",
       "      <td>2021-01-13 23:33:55</td>\n",
       "      <td>76</td>\n",
       "      <td>63</td>\n",
       "      <td>1.87</td>\n",
       "      <td>...</td>\n",
       "      <td>0.70</td>\n",
       "      <td>0.00</td>\n",
       "      <td>NaN</td>\n",
       "      <td>0.0</td>\n",
       "      <td>7.09</td>\n",
       "      <td>N</td>\n",
       "      <td>N</td>\n",
       "      <td></td>\n",
       "      <td>N</td>\n",
       "      <td>N</td>\n",
       "    </tr>\n",
       "    <tr>\n",
       "      <th>11196330</th>\n",
       "      <td>HV0003</td>\n",
       "      <td>B02682</td>\n",
       "      <td>B02682</td>\n",
       "      <td>2021-01-30 12:20:22</td>\n",
       "      <td>2021-01-30 12:24:16</td>\n",
       "      <td>2021-01-30 12:24:28</td>\n",
       "      <td>2021-01-30 12:33:16</td>\n",
       "      <td>79</td>\n",
       "      <td>249</td>\n",
       "      <td>1.74</td>\n",
       "      <td>...</td>\n",
       "      <td>0.91</td>\n",
       "      <td>2.75</td>\n",
       "      <td>NaN</td>\n",
       "      <td>0.0</td>\n",
       "      <td>6.34</td>\n",
       "      <td>N</td>\n",
       "      <td>N</td>\n",
       "      <td></td>\n",
       "      <td>N</td>\n",
       "      <td>N</td>\n",
       "    </tr>\n",
       "  </tbody>\n",
       "</table>\n",
       "<p>5 rows × 24 columns</p>\n",
       "</div>"
      ],
      "text/plain": [
       "         hvfhs_license_num dispatching_base_num originating_base_num  \\\n",
       "10902816            HV0003               B02875               B02875   \n",
       "2138757             HV0003               B02878               B02878   \n",
       "10133463            HV0003               B02764               B02764   \n",
       "4668475             HV0003               B02835               B02835   \n",
       "11196330            HV0003               B02682               B02682   \n",
       "\n",
       "            request_datetime   on_scene_datetime     pickup_datetime  \\\n",
       "10902816 2021-01-29 17:53:00 2021-01-29 18:17:01 2021-01-29 18:17:01   \n",
       "2138757  2021-01-07 08:56:32 2021-01-07 08:58:20 2021-01-07 09:00:20   \n",
       "10133463 2021-01-28 00:31:33 2021-01-28 00:33:00 2021-01-28 00:34:42   \n",
       "4668475  2021-01-13 23:19:06 2021-01-13 23:23:54 2021-01-13 23:23:54   \n",
       "11196330 2021-01-30 12:20:22 2021-01-30 12:24:16 2021-01-30 12:24:28   \n",
       "\n",
       "            dropoff_datetime  PULocationID  DOLocationID  trip_miles  ...  \\\n",
       "10902816 2021-01-29 18:27:41            69           167        1.55  ...   \n",
       "2138757  2021-01-07 09:17:24            47           126        2.25  ...   \n",
       "10133463 2021-01-28 00:39:47           219            10        1.52  ...   \n",
       "4668475  2021-01-13 23:33:55            76            63        1.87  ...   \n",
       "11196330 2021-01-30 12:33:16            79           249        1.74  ...   \n",
       "\n",
       "          sales_tax  congestion_surcharge  airport_fee  tips  driver_pay  \\\n",
       "10902816       0.85                  0.00          NaN   0.0       13.86   \n",
       "2138757        1.47                  0.00          NaN   0.0       12.56   \n",
       "10133463       0.56                  0.00          NaN   0.0        5.39   \n",
       "4668475        0.70                  0.00          NaN   0.0        7.09   \n",
       "11196330       0.91                  2.75          NaN   0.0        6.34   \n",
       "\n",
       "          shared_request_flag  shared_match_flag  access_a_ride_flag  \\\n",
       "10902816                    N                  N                       \n",
       "2138757                     N                  N                       \n",
       "10133463                    N                  N                       \n",
       "4668475                     N                  N                       \n",
       "11196330                    N                  N                       \n",
       "\n",
       "          wav_request_flag wav_match_flag  \n",
       "10902816                 N              Y  \n",
       "2138757                  N              N  \n",
       "10133463                 N              N  \n",
       "4668475                  N              N  \n",
       "11196330                 N              N  \n",
       "\n",
       "[5 rows x 24 columns]"
      ]
     },
     "execution_count": 6,
     "metadata": {},
     "output_type": "execute_result"
    }
   ],
   "source": [
    "#Checking the df\n",
    "df.head()"
   ]
  },
  {
   "cell_type": "code",
   "execution_count": 7,
   "id": "011b5e2e",
   "metadata": {},
   "outputs": [
    {
     "data": {
      "text/plain": [
       "(1190845, 24)"
      ]
     },
     "execution_count": 7,
     "metadata": {},
     "output_type": "execute_result"
    }
   ],
   "source": [
    "# Checking shape of df\n",
    "df.shape"
   ]
  },
  {
   "cell_type": "markdown",
   "id": "b5a0d22f",
   "metadata": {},
   "source": [
    "# Data Cleaning"
   ]
  },
  {
   "cell_type": "code",
   "execution_count": 8,
   "id": "b568a60b",
   "metadata": {},
   "outputs": [
    {
     "data": {
      "text/plain": [
       "Index(['hvfhs_license_num', 'dispatching_base_num', 'originating_base_num',\n",
       "       'request_datetime', 'on_scene_datetime', 'pickup_datetime',\n",
       "       'dropoff_datetime', 'PULocationID', 'DOLocationID', 'trip_miles',\n",
       "       'trip_time', 'base_passenger_fare', 'tolls', 'bcf', 'sales_tax',\n",
       "       'congestion_surcharge', 'airport_fee', 'tips', 'driver_pay',\n",
       "       'shared_request_flag', 'shared_match_flag', 'access_a_ride_flag',\n",
       "       'wav_request_flag', 'wav_match_flag'],\n",
       "      dtype='object')"
      ]
     },
     "execution_count": 8,
     "metadata": {},
     "output_type": "execute_result"
    }
   ],
   "source": [
    "#Get a list of column names\n",
    "df.columns"
   ]
  },
  {
   "cell_type": "code",
   "execution_count": 9,
   "id": "8cb29297",
   "metadata": {},
   "outputs": [
    {
     "name": "stdout",
     "output_type": "stream",
     "text": [
      "<class 'pandas.core.frame.DataFrame'>\n",
      "Int64Index: 1190845 entries, 10902816 to 580474\n",
      "Data columns (total 24 columns):\n",
      " #   Column                Non-Null Count    Dtype         \n",
      "---  ------                --------------    -----         \n",
      " 0   hvfhs_license_num     1190845 non-null  object        \n",
      " 1   dispatching_base_num  1190845 non-null  object        \n",
      " 2   originating_base_num  870211 non-null   object        \n",
      " 3   request_datetime      1190845 non-null  datetime64[ns]\n",
      " 4   on_scene_datetime     870829 non-null   datetime64[ns]\n",
      " 5   pickup_datetime       1190845 non-null  datetime64[ns]\n",
      " 6   dropoff_datetime      1190845 non-null  datetime64[ns]\n",
      " 7   PULocationID          1190845 non-null  int64         \n",
      " 8   DOLocationID          1190845 non-null  int64         \n",
      " 9   trip_miles            1190845 non-null  float64       \n",
      " 10  trip_time             1190845 non-null  int64         \n",
      " 11  base_passenger_fare   1190845 non-null  float64       \n",
      " 12  tolls                 1190845 non-null  float64       \n",
      " 13  bcf                   1190845 non-null  float64       \n",
      " 14  sales_tax             1190845 non-null  float64       \n",
      " 15  congestion_surcharge  1190845 non-null  float64       \n",
      " 16  airport_fee           607 non-null      float64       \n",
      " 17  tips                  1190845 non-null  float64       \n",
      " 18  driver_pay            1190845 non-null  float64       \n",
      " 19  shared_request_flag   1190845 non-null  object        \n",
      " 20  shared_match_flag     1190845 non-null  object        \n",
      " 21  access_a_ride_flag    1190845 non-null  object        \n",
      " 22  wav_request_flag      1190845 non-null  object        \n",
      " 23  wav_match_flag        1190845 non-null  object        \n",
      "dtypes: datetime64[ns](4), float64(9), int64(3), object(8)\n",
      "memory usage: 227.1+ MB\n"
     ]
    }
   ],
   "source": [
    "#See data types per column\n",
    "df.info()"
   ]
  },
  {
   "cell_type": "code",
   "execution_count": 10,
   "id": "373f7d80",
   "metadata": {},
   "outputs": [
    {
     "data": {
      "text/plain": [
       "Index(['hvfhs_license_num', 'dispatching_base_num', 'originating_base_num',\n",
       "       'request_datetime', 'on_scene_datetime', 'pickup_datetime',\n",
       "       'dropoff_datetime', 'PULocationID', 'DOLocationID', 'trip_miles',\n",
       "       'trip_time', 'base_passenger_fare', 'tolls', 'bcf', 'sales_tax',\n",
       "       'congestion_surcharge', 'airport_fee', 'tips', 'driver_pay',\n",
       "       'shared_request_flag', 'shared_match_flag', 'access_a_ride_flag',\n",
       "       'wav_request_flag', 'wav_match_flag'],\n",
       "      dtype='object')"
      ]
     },
     "execution_count": 10,
     "metadata": {},
     "output_type": "execute_result"
    }
   ],
   "source": [
    "df.columns"
   ]
  },
  {
   "cell_type": "code",
   "execution_count": 11,
   "id": "7e39f453",
   "metadata": {},
   "outputs": [
    {
     "data": {
      "text/plain": [
       "hvfhs_license_num             0\n",
       "dispatching_base_num          0\n",
       "originating_base_num     320634\n",
       "request_datetime              0\n",
       "on_scene_datetime        320016\n",
       "pickup_datetime               0\n",
       "dropoff_datetime              0\n",
       "PULocationID                  0\n",
       "DOLocationID                  0\n",
       "trip_miles                    0\n",
       "trip_time                     0\n",
       "base_passenger_fare           0\n",
       "tolls                         0\n",
       "bcf                           0\n",
       "sales_tax                     0\n",
       "congestion_surcharge          0\n",
       "airport_fee             1190238\n",
       "tips                          0\n",
       "driver_pay                    0\n",
       "shared_request_flag           0\n",
       "shared_match_flag             0\n",
       "access_a_ride_flag            0\n",
       "wav_request_flag              0\n",
       "wav_match_flag                0\n",
       "dtype: int64"
      ]
     },
     "execution_count": 11,
     "metadata": {},
     "output_type": "execute_result"
    }
   ],
   "source": [
    "#Check missing values\n",
    "df.isna().sum()"
   ]
  },
  {
   "cell_type": "code",
   "execution_count": 12,
   "id": "b29be8a4",
   "metadata": {},
   "outputs": [],
   "source": [
    "#Dropping columns with missing values\n",
    "\n",
    "#originating_base_num, on_scene_datetime, and airport_fee columns will be dropped since they have missing values.\n",
    "\n",
    "df = df.drop(columns = ['originating_base_num','on_scene_datetime','airport_fee'])"
   ]
  },
  {
   "cell_type": "code",
   "execution_count": 13,
   "id": "5fedc6a1",
   "metadata": {},
   "outputs": [
    {
     "data": {
      "text/plain": [
       "hvfhs_license_num       0\n",
       "dispatching_base_num    0\n",
       "request_datetime        0\n",
       "pickup_datetime         0\n",
       "dropoff_datetime        0\n",
       "PULocationID            0\n",
       "DOLocationID            0\n",
       "trip_miles              0\n",
       "trip_time               0\n",
       "base_passenger_fare     0\n",
       "tolls                   0\n",
       "bcf                     0\n",
       "sales_tax               0\n",
       "congestion_surcharge    0\n",
       "tips                    0\n",
       "driver_pay              0\n",
       "shared_request_flag     0\n",
       "shared_match_flag       0\n",
       "access_a_ride_flag      0\n",
       "wav_request_flag        0\n",
       "wav_match_flag          0\n",
       "dtype: int64"
      ]
     },
     "execution_count": 13,
     "metadata": {},
     "output_type": "execute_result"
    }
   ],
   "source": [
    "#Check if dropped columns were dropped\n",
    "df.isna().sum()"
   ]
  },
  {
   "cell_type": "code",
   "execution_count": 14,
   "id": "2ffc72ca",
   "metadata": {
    "scrolled": false
   },
   "outputs": [
    {
     "data": {
      "text/html": [
       "<div>\n",
       "<style scoped>\n",
       "    .dataframe tbody tr th:only-of-type {\n",
       "        vertical-align: middle;\n",
       "    }\n",
       "\n",
       "    .dataframe tbody tr th {\n",
       "        vertical-align: top;\n",
       "    }\n",
       "\n",
       "    .dataframe thead th {\n",
       "        text-align: right;\n",
       "    }\n",
       "</style>\n",
       "<table border=\"1\" class=\"dataframe\">\n",
       "  <thead>\n",
       "    <tr style=\"text-align: right;\">\n",
       "      <th></th>\n",
       "      <th>hvfhs_license_num</th>\n",
       "      <th>dispatching_base_num</th>\n",
       "      <th>request_datetime</th>\n",
       "      <th>pickup_datetime</th>\n",
       "      <th>dropoff_datetime</th>\n",
       "      <th>PULocationID</th>\n",
       "      <th>DOLocationID</th>\n",
       "      <th>trip_miles</th>\n",
       "      <th>trip_time</th>\n",
       "      <th>base_passenger_fare</th>\n",
       "      <th>...</th>\n",
       "      <th>bcf</th>\n",
       "      <th>sales_tax</th>\n",
       "      <th>congestion_surcharge</th>\n",
       "      <th>tips</th>\n",
       "      <th>driver_pay</th>\n",
       "      <th>shared_request_flag</th>\n",
       "      <th>shared_match_flag</th>\n",
       "      <th>access_a_ride_flag</th>\n",
       "      <th>wav_request_flag</th>\n",
       "      <th>wav_match_flag</th>\n",
       "    </tr>\n",
       "  </thead>\n",
       "  <tbody>\n",
       "    <tr>\n",
       "      <th>751647</th>\n",
       "      <td>HV0003</td>\n",
       "      <td>B02887</td>\n",
       "      <td>2021-01-03 00:33:05</td>\n",
       "      <td>2021-01-03 00:34:42</td>\n",
       "      <td>2021-01-03 00:48:30</td>\n",
       "      <td>71</td>\n",
       "      <td>39</td>\n",
       "      <td>3.2</td>\n",
       "      <td>828</td>\n",
       "      <td>13.24</td>\n",
       "      <td>...</td>\n",
       "      <td>0.4</td>\n",
       "      <td>1.18</td>\n",
       "      <td>0.0</td>\n",
       "      <td>0.0</td>\n",
       "      <td>10.46</td>\n",
       "      <td>N</td>\n",
       "      <td>N</td>\n",
       "      <td></td>\n",
       "      <td>N</td>\n",
       "      <td>N</td>\n",
       "    </tr>\n",
       "  </tbody>\n",
       "</table>\n",
       "<p>1 rows × 21 columns</p>\n",
       "</div>"
      ],
      "text/plain": [
       "       hvfhs_license_num dispatching_base_num    request_datetime  \\\n",
       "751647            HV0003               B02887 2021-01-03 00:33:05   \n",
       "\n",
       "           pickup_datetime    dropoff_datetime  PULocationID  DOLocationID  \\\n",
       "751647 2021-01-03 00:34:42 2021-01-03 00:48:30            71            39   \n",
       "\n",
       "        trip_miles  trip_time  base_passenger_fare  ...  bcf  sales_tax  \\\n",
       "751647         3.2        828                13.24  ...  0.4       1.18   \n",
       "\n",
       "        congestion_surcharge  tips  driver_pay  shared_request_flag  \\\n",
       "751647                   0.0   0.0       10.46                    N   \n",
       "\n",
       "       shared_match_flag access_a_ride_flag wav_request_flag wav_match_flag  \n",
       "751647                 N                                   N              N  \n",
       "\n",
       "[1 rows x 21 columns]"
      ]
     },
     "execution_count": 14,
     "metadata": {},
     "output_type": "execute_result"
    }
   ],
   "source": [
    "# Check for duplicated rows\n",
    "df[df.duplicated()]\n",
    "\n",
    "# There are no duplicated rows."
   ]
  },
  {
   "cell_type": "markdown",
   "id": "8099a278",
   "metadata": {},
   "source": [
    "# Feature Engineering"
   ]
  },
  {
   "cell_type": "code",
   "execution_count": 15,
   "id": "922ffe02",
   "metadata": {},
   "outputs": [],
   "source": [
    "# Drop unnecessary columns for the study.\n",
    "df = df.drop(columns = ['dispatching_base_num','request_datetime','bcf','sales_tax','shared_request_flag','shared_match_flag','access_a_ride_flag','wav_request_flag','wav_match_flag','dropoff_datetime'])"
   ]
  },
  {
   "cell_type": "code",
   "execution_count": 16,
   "id": "cd639eaf",
   "metadata": {},
   "outputs": [
    {
     "data": {
      "text/plain": [
       "HV0003    870412\n",
       "HV0005    309432\n",
       "HV0004     11001\n",
       "Name: hvfhs_license_num, dtype: int64"
      ]
     },
     "execution_count": 16,
     "metadata": {},
     "output_type": "execute_result"
    }
   ],
   "source": [
    "# Checking which ride services are present in the dataset\n",
    "df['hvfhs_license_num'].value_counts()"
   ]
  },
  {
   "cell_type": "code",
   "execution_count": 17,
   "id": "6100097a",
   "metadata": {},
   "outputs": [],
   "source": [
    "# Updating license numbers to ride company\n",
    "# License numbers to their equivalent ride service providers are identified in the Kaggle PDF.\n",
    "\n",
    "df['hvfhs_license_num'] = df['hvfhs_license_num'].replace(['HV0003', 'HV0005', 'HV0004'], ['Uber', 'Lyft', 'Via'])"
   ]
  },
  {
   "cell_type": "code",
   "execution_count": 18,
   "id": "a3494b48",
   "metadata": {},
   "outputs": [],
   "source": [
    "# Creating a ride counter column for the dashboard\n",
    "df['ride_count'] = 1"
   ]
  },
  {
   "cell_type": "code",
   "execution_count": 19,
   "id": "fe21080c",
   "metadata": {},
   "outputs": [],
   "source": [
    "# Creating a date column for the transactions\n",
    "df['Date']= df['pickup_datetime'].dt.date\n",
    "df = df.drop(columns=['pickup_datetime'])"
   ]
  },
  {
   "cell_type": "code",
   "execution_count": 20,
   "id": "eaf3e926",
   "metadata": {},
   "outputs": [],
   "source": [
    "# Renaming columns\n",
    "df = df.rename(columns={\n",
    "    \"hvfhs_license_num\": \"Ride Company\",\n",
    "    \"trip_miles\": \"Trip Miles\",\n",
    "    \"trip_time\" : \"Trip Time\",\n",
    "    \"base_passenger_fare\" : \"Base Passenger Fare\",\n",
    "    \"tolls\" : \"Tolls\",\n",
    "    \"congestion_surcharge\" : \"Congestion Surcharge\",\n",
    "    \"tips\" : \"Tips\",\n",
    "    \"driver_pay\" : \"Driver Pay\",\n",
    "    \"ride_count\" : \"Ride Count\"\n",
    "})"
   ]
  },
  {
   "cell_type": "code",
   "execution_count": 21,
   "id": "f12fec75",
   "metadata": {},
   "outputs": [
    {
     "data": {
      "text/html": [
       "<div>\n",
       "<style scoped>\n",
       "    .dataframe tbody tr th:only-of-type {\n",
       "        vertical-align: middle;\n",
       "    }\n",
       "\n",
       "    .dataframe tbody tr th {\n",
       "        vertical-align: top;\n",
       "    }\n",
       "\n",
       "    .dataframe thead th {\n",
       "        text-align: right;\n",
       "    }\n",
       "</style>\n",
       "<table border=\"1\" class=\"dataframe\">\n",
       "  <thead>\n",
       "    <tr style=\"text-align: right;\">\n",
       "      <th></th>\n",
       "      <th>Ride Company</th>\n",
       "      <th>PULocationID</th>\n",
       "      <th>DOLocationID</th>\n",
       "      <th>Trip Miles</th>\n",
       "      <th>Trip Time</th>\n",
       "      <th>Base Passenger Fare</th>\n",
       "      <th>Tolls</th>\n",
       "      <th>Congestion Surcharge</th>\n",
       "      <th>Tips</th>\n",
       "      <th>Driver Pay</th>\n",
       "      <th>Ride Count</th>\n",
       "      <th>Date</th>\n",
       "    </tr>\n",
       "  </thead>\n",
       "  <tbody>\n",
       "    <tr>\n",
       "      <th>10902816</th>\n",
       "      <td>Uber</td>\n",
       "      <td>69</td>\n",
       "      <td>167</td>\n",
       "      <td>1.55</td>\n",
       "      <td>640</td>\n",
       "      <td>9.63</td>\n",
       "      <td>0.0</td>\n",
       "      <td>0.00</td>\n",
       "      <td>0.0</td>\n",
       "      <td>13.86</td>\n",
       "      <td>1</td>\n",
       "      <td>2021-01-29</td>\n",
       "    </tr>\n",
       "    <tr>\n",
       "      <th>2138757</th>\n",
       "      <td>Uber</td>\n",
       "      <td>47</td>\n",
       "      <td>126</td>\n",
       "      <td>2.25</td>\n",
       "      <td>1024</td>\n",
       "      <td>16.56</td>\n",
       "      <td>0.0</td>\n",
       "      <td>0.00</td>\n",
       "      <td>0.0</td>\n",
       "      <td>12.56</td>\n",
       "      <td>1</td>\n",
       "      <td>2021-01-07</td>\n",
       "    </tr>\n",
       "    <tr>\n",
       "      <th>10133463</th>\n",
       "      <td>Uber</td>\n",
       "      <td>219</td>\n",
       "      <td>10</td>\n",
       "      <td>1.52</td>\n",
       "      <td>305</td>\n",
       "      <td>6.33</td>\n",
       "      <td>0.0</td>\n",
       "      <td>0.00</td>\n",
       "      <td>0.0</td>\n",
       "      <td>5.39</td>\n",
       "      <td>1</td>\n",
       "      <td>2021-01-28</td>\n",
       "    </tr>\n",
       "    <tr>\n",
       "      <th>4668475</th>\n",
       "      <td>Uber</td>\n",
       "      <td>76</td>\n",
       "      <td>63</td>\n",
       "      <td>1.87</td>\n",
       "      <td>601</td>\n",
       "      <td>7.84</td>\n",
       "      <td>0.0</td>\n",
       "      <td>0.00</td>\n",
       "      <td>0.0</td>\n",
       "      <td>7.09</td>\n",
       "      <td>1</td>\n",
       "      <td>2021-01-13</td>\n",
       "    </tr>\n",
       "    <tr>\n",
       "      <th>11196330</th>\n",
       "      <td>Uber</td>\n",
       "      <td>79</td>\n",
       "      <td>249</td>\n",
       "      <td>1.74</td>\n",
       "      <td>528</td>\n",
       "      <td>9.85</td>\n",
       "      <td>0.0</td>\n",
       "      <td>2.75</td>\n",
       "      <td>0.0</td>\n",
       "      <td>6.34</td>\n",
       "      <td>1</td>\n",
       "      <td>2021-01-30</td>\n",
       "    </tr>\n",
       "  </tbody>\n",
       "</table>\n",
       "</div>"
      ],
      "text/plain": [
       "         Ride Company  PULocationID  DOLocationID  Trip Miles  Trip Time  \\\n",
       "10902816         Uber            69           167        1.55        640   \n",
       "2138757          Uber            47           126        2.25       1024   \n",
       "10133463         Uber           219            10        1.52        305   \n",
       "4668475          Uber            76            63        1.87        601   \n",
       "11196330         Uber            79           249        1.74        528   \n",
       "\n",
       "          Base Passenger Fare  Tolls  Congestion Surcharge  Tips  Driver Pay  \\\n",
       "10902816                 9.63    0.0                  0.00   0.0       13.86   \n",
       "2138757                 16.56    0.0                  0.00   0.0       12.56   \n",
       "10133463                 6.33    0.0                  0.00   0.0        5.39   \n",
       "4668475                  7.84    0.0                  0.00   0.0        7.09   \n",
       "11196330                 9.85    0.0                  2.75   0.0        6.34   \n",
       "\n",
       "          Ride Count        Date  \n",
       "10902816           1  2021-01-29  \n",
       "2138757            1  2021-01-07  \n",
       "10133463           1  2021-01-28  \n",
       "4668475            1  2021-01-13  \n",
       "11196330           1  2021-01-30  "
      ]
     },
     "execution_count": 21,
     "metadata": {},
     "output_type": "execute_result"
    }
   ],
   "source": [
    "df.head()"
   ]
  },
  {
   "cell_type": "code",
   "execution_count": 22,
   "id": "bbf50ac1",
   "metadata": {},
   "outputs": [],
   "source": [
    "df.to_csv('cleaned_data.csv')"
   ]
  },
  {
   "cell_type": "code",
   "execution_count": null,
   "id": "6cf247ad",
   "metadata": {},
   "outputs": [],
   "source": []
  }
 ],
 "metadata": {
  "kernelspec": {
   "display_name": "Python 3 (ipykernel)",
   "language": "python",
   "name": "python3"
  },
  "language_info": {
   "codemirror_mode": {
    "name": "ipython",
    "version": 3
   },
   "file_extension": ".py",
   "mimetype": "text/x-python",
   "name": "python",
   "nbconvert_exporter": "python",
   "pygments_lexer": "ipython3",
   "version": "3.9.13"
  }
 },
 "nbformat": 4,
 "nbformat_minor": 5
}
